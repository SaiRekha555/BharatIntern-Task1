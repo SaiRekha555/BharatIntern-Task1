{
  "nbformat": 4,
  "nbformat_minor": 0,
  "metadata": {
    "colab": {
      "provenance": [],
      "authorship_tag": "ABX9TyOWhokCHQW2VdlGnvtexPpV",
      "include_colab_link": true
    },
    "kernelspec": {
      "name": "python3",
      "display_name": "Python 3"
    },
    "language_info": {
      "name": "python"
    }
  },
  "cells": [
    {
      "cell_type": "markdown",
      "metadata": {
        "id": "view-in-github",
        "colab_type": "text"
      },
      "source": [
        "<a href=\"https://colab.research.google.com/github/SaiRekha555/BharatIntern-Task1/blob/main/News.ipynb\" target=\"_parent\"><img src=\"https://colab.research.google.com/assets/colab-badge.svg\" alt=\"Open In Colab\"/></a>"
      ]
    },
    {
      "cell_type": "code",
      "source": [
        "pip install python-telegram-bot requests\n"
      ],
      "metadata": {
        "id": "05CXVguvC7O8"
      },
      "execution_count": null,
      "outputs": []
    },
    {
      "cell_type": "code",
      "execution_count": null,
      "metadata": {
        "id": "00Iikm9uC2AN"
      },
      "outputs": [],
      "source": [
        "import logging\n",
        "from telegram import Update, ForceReply\n",
        "from telegram.ext import Updater, CommandHandler, MessageHandler, Filters, CallbackContext\n",
        "import requests\n",
        "\n",
        "# Enable logging\n",
        "logging.basicConfig(\n",
        "    format='%(asctime)s - %(name)s - %(levelname)s - %(message)s',\n",
        "    level=logging.INFO\n",
        ")\n",
        "logger = logging.getLogger(__name__)\n",
        "\n",
        "# Replace 'YOUR_TELEGRAM_BOT_TOKEN' with your bot token\n",
        "TELEGRAM_BOT_TOKEN = '7333499420:AAGT3nIkr6Tt2EXD0aPSVVnHc2tBJYJBico'\n",
        "# Replace 'YOUR_NEWSAPI_KEY' with your NewsAPI key\n",
        "NEWSAPI_KEY = 'pub_459491e2876a221f90221242c6c947efa2b40'\n",
        "\n",
        "# Function to fetch news from NewsAPI\n",
        "def fetch_news(category=None, country='us'):\n",
        "    url = f'https://newsapi.org/v2/top-headlines?apiKey={NEWSAPI_KEY}&country={country}'\n",
        "    if category:\n",
        "        url += f'&category={category}'\n",
        "    response = requests.get(url)\n",
        "    articles = response.json().get('articles', [])\n",
        "    return articles\n",
        "\n",
        "# Function to format the news articles\n",
        "def format_news(articles):\n",
        "    if not articles:\n",
        "        return \"No news available at the moment.\"\n",
        "    formatted_news = []\n",
        "    for article in articles[:5]:  # Limiting to top 5 articles\n",
        "        title = article.get('title')\n",
        "        description = article.get('description')\n",
        "        url = article.get('url')\n",
        "        formatted_news.append(f\"📰 *{title}*\\n{description}\\n[Read more]({url})\\n\")\n",
        "    return \"\\n\\n\".join(formatted_news)\n",
        "\n",
        "# Command handlers\n",
        "def start(update: Update, context: CallbackContext) -> None:\n",
        "    user = update.effective_user\n",
        "    update.message.reply_markdown_v2(\n",
        "        fr'Hi {user.mention_markdown_v2()}\\! I am your news bot\\. Use /news to get the latest news\\.',\n",
        "        reply_markup=ForceReply(selective=True),\n",
        "    )\n",
        "\n",
        "def help_command(update: Update, context: CallbackContext) -> None:\n",
        "    update.message.reply_text('Use /news [category] to get the latest news. Categories include general, business, entertainment, health, science, sports, technology.')\n",
        "\n",
        "def news(update: Update, context: CallbackContext) -> None:\n",
        "    category = ' '.join(context.args).lower()\n",
        "    valid_categories = ['general', 'business', 'entertainment', 'health', 'science', 'sports', 'technology']\n",
        "    if category not in valid_categories:\n",
        "        category = None\n",
        "    articles = fetch_news(category)\n",
        "    formatted_news = format_news(articles)\n",
        "    update.message.reply_text(formatted_news, parse_mode='Markdown')\n",
        "\n",
        "def main() -> None:\n",
        "    updater = Updater(TELEGRAM_BOT_TOKEN)\n",
        "    dispatcher = updater.dispatcher\n",
        "\n",
        "    dispatcher.add_handler(CommandHandler(\"start\", start))\n",
        "    dispatcher.add_handler(CommandHandler(\"help\", help_command))\n",
        "    dispatcher.add_handler(CommandHandler(\"news\", news))\n",
        "\n",
        "    updater.start_polling()\n",
        "    updater.idle()\n",
        "\n",
        "if __name__ == '__main__':\n",
        "    main()\n"
      ]
    }
  ]
}